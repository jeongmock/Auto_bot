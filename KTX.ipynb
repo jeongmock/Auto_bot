{
 "cells": [
  {
   "cell_type": "code",
   "execution_count": 1,
   "id": "cf8da24e",
   "metadata": {
    "scrolled": true
   },
   "outputs": [],
   "source": [
    "## 코레일 로그인하기 \n",
    "\n",
    "import warnings\n",
    "warnings.filterwarnings(action='ignore')\n",
    "\n",
    "from selenium import webdriver\n",
    "import time\n",
    "import requests\n",
    "from bs4 import BeautifulSoup\n",
    "\n",
    "# ##코레일 ID 정보 입력\n",
    "# member_num = input('코레일멤버쉽 번호 입력 : ')\n",
    "# password = input('비밀 번호 입력 : ')\n",
    "\n",
    "# ## 예매 정보 입력\n",
    "# start = input('출발지 입력 : ')\n",
    "# end = input('도착지 입력 : ')\n",
    "# year = input('년도 입력 (Ex.2022): ')\n",
    "# month = input('월 입력 (1~12): ')\n",
    "# day = input('일 입력 (1~31): ')\n",
    "# hous = input('출발시간 입력 (0~23): ') #0~23 사이로 입력#\n",
    "\n",
    "## 내 아이디로 미리 설정\n",
    "member_num = '0960000414'\n",
    "password = 'dbwjdahr11!'\n",
    "\n",
    "## 예매 정보 입력\n",
    "start = '마산'\n",
    "end = '서울'\n",
    "year = '2022'\n",
    "month = '7'\n",
    "day = '14'\n",
    "hous = '9'"
   ]
  },
  {
   "cell_type": "code",
   "execution_count": 2,
   "id": "9fa35b34",
   "metadata": {},
   "outputs": [],
   "source": [
    "## Chrome Driver 경로 지정\n",
    "driverPath = r\"C:/Users/JMYoo_Gram/Chromedriver/chromedriver.exe\" \n",
    "driver = webdriver.Chrome(driverPath) \n",
    "driver.implicitly_wait(4)\n",
    "driver.get('http://www.letskorail.com/korail/com/login.do') #코레일 로그인화면 접속\n",
    "time.sleep(0.5)\n",
    "\n",
    "#코레일 멤버쉽 번호 입력\n",
    "driver.find_element_by_name('txtMember').send_keys(member_num)\n",
    "time.sleep(0.5)\n",
    "\n",
    "#비밀번호 입력\n",
    "driver.find_element_by_name('txtPwd').send_keys(password)\n",
    "\n",
    "#로그인 버튼 클릭\n",
    "driver.find_element_by_xpath(\"/html/body/div[1]/div[3]/div/div[1]/div[2]/div[1]/div[1]/form[1]/fieldset/div[1]/ul/li[3]/a/img\").click()\n",
    "driver.implicitly_wait(3)\n",
    "time.sleep(0.5)\n",
    "\n",
    "# < pop-up창 없애기 >\n",
    "time.sleep(3)\n",
    "driver.window_handles    # 창 개수 확인\n",
    "driver.window_handles[0] # 메인창\n",
    "driver.window_handles[1] # 첫 번째 팝업 창\n",
    "driver.switch_to.window(driver.window_handles[1]) # 첫 번째 팝업 창으로 제어권 옮기기\n",
    "driver.close()                                    # 첫 번째 팝업 창 닫기\n",
    "driver.switch_to.window(driver.window_handles[0]) # 홈 화면 으로 제어권 옮기기\n",
    "time.sleep(1)\n",
    "\n",
    "#예약 화면 이동\n",
    "driver.get('http://www.letskorail.com/ebizprd/EbizPrdTicketpr21100W_pr21110.do')\n",
    "driver.implicitly_wait(3)\n",
    "\n",
    "#예매 정보 입력\n",
    "driver.find_element_by_name('txtGoStart').clear()\n",
    "driver.find_element_by_name('txtGoStart').send_keys(start)\n",
    "driver.find_element_by_name('txtGoEnd').clear()\n",
    "driver.find_element_by_name('txtGoEnd').send_keys(end)\n",
    "driver.find_element_by_name('selGoYear').send_keys(year)\n",
    "driver.find_element_by_name('selGoMonth').send_keys(month)\n",
    "driver.find_element_by_name('selGoDay').send_keys(day)\n",
    "driver.find_element_by_name('selGoHour').send_keys(hous)\n",
    "\n",
    "# 승차권 예매 누르기 \n",
    "xpath6=\"/html/body/div[1]/div[3]/div/div[1]/div[2]/form/div/p/a/img\"\n",
    "driver.find_element_by_xpath(xpath6).click()\n",
    "time.sleep(1)"
   ]
  },
  {
   "cell_type": "code",
   "execution_count": 22,
   "id": "7b0373b8",
   "metadata": {},
   "outputs": [
    {
     "ename": "NoSuchElementException",
     "evalue": "Message: no such element: Unable to locate element: {\"method\":\"xpath\",\"selector\":\"/html/body/div[1]/div[3]/div/div[1]/form[1]/div/div[4]/table[1]/tbody/tr[1]/td[6]/img\"}\n  (Session info: chrome=103.0.5060.114)\nStacktrace:\nBacktrace:\n\tOrdinal0 [0x0107D953+2414931]\n\tOrdinal0 [0x0100F5E1+1963489]\n\tOrdinal0 [0x00EFC6B8+837304]\n\tOrdinal0 [0x00F29500+1021184]\n\tOrdinal0 [0x00F2979B+1021851]\n\tOrdinal0 [0x00F56502+1205506]\n\tOrdinal0 [0x00F444E4+1131748]\n\tOrdinal0 [0x00F54812+1198098]\n\tOrdinal0 [0x00F442B6+1131190]\n\tOrdinal0 [0x00F1E860+976992]\n\tOrdinal0 [0x00F1F756+980822]\n\tGetHandleVerifier [0x012ECC62+2510274]\n\tGetHandleVerifier [0x012DF760+2455744]\n\tGetHandleVerifier [0x0110EABA+551962]\n\tGetHandleVerifier [0x0110D916+547446]\n\tOrdinal0 [0x01015F3B+1990459]\n\tOrdinal0 [0x0101A898+2009240]\n\tOrdinal0 [0x0101A985+2009477]\n\tOrdinal0 [0x01023AD1+2046673]\n\tBaseThreadInitThunk [0x77ACFA29+25]\n\tRtlGetAppContainerNamedObjectPath [0x77E57A9E+286]\n\tRtlGetAppContainerNamedObjectPath [0x77E57A6E+238]\n",
     "output_type": "error",
     "traceback": [
      "\u001b[1;31m---------------------------------------------------------------------------\u001b[0m",
      "\u001b[1;31mKeyboardInterrupt\u001b[0m                         Traceback (most recent call last)",
      "\u001b[1;32mc:\\Code\\AutoBot\\KTX.ipynb 셀 3\u001b[0m in \u001b[0;36m<cell line: 11>\u001b[1;34m()\u001b[0m\n\u001b[0;32m     <a href='vscode-notebook-cell:/c%3A/Code/AutoBot/KTX.ipynb#ch0000002?line=14'>15</a>\u001b[0m res_but \u001b[39m=\u001b[39m \u001b[39m\"\u001b[39m\u001b[39m/html/body/div[1]/div[3]/div/div[1]/form[1]/div/div[4]/table[1]/tbody/tr[1]/td[6]/a[1]/img\u001b[39m\u001b[39m\"\u001b[39m\n\u001b[1;32m---> <a href='vscode-notebook-cell:/c%3A/Code/AutoBot/KTX.ipynb#ch0000002?line=15'>16</a>\u001b[0m button_type \u001b[39m=\u001b[39m driver\u001b[39m.\u001b[39;49mfind_element_by_xpath(\u001b[39m\"\u001b[39;49m\u001b[39m/html/body/div[1]/div[3]/div/div[1]/form[1]/div/div[4]/table[1]/tbody/tr[1]/td[6]/a[1]/img\u001b[39;49m\u001b[39m\"\u001b[39;49m)\u001b[39m.\u001b[39mget_attribute(\u001b[39m'\u001b[39m\u001b[39malt\u001b[39m\u001b[39m'\u001b[39m)\n\u001b[0;32m     <a href='vscode-notebook-cell:/c%3A/Code/AutoBot/KTX.ipynb#ch0000002?line=16'>17</a>\u001b[0m \u001b[39m#다를경우 하이퍼링크 포함... 그러나 하이퍼링크가 좌석선택과 예약하기이경우 a[1]로 첫번째거 선택하도록 변경해야함...\u001b[39;00m\n",
      "File \u001b[1;32mc:\\Users\\JMYoo_Gram\\anaconda3\\lib\\site-packages\\selenium\\webdriver\\remote\\webdriver.py:526\u001b[0m, in \u001b[0;36mWebDriver.find_element_by_xpath\u001b[1;34m(self, xpath)\u001b[0m\n\u001b[0;32m    521\u001b[0m warnings\u001b[39m.\u001b[39mwarn(\n\u001b[0;32m    522\u001b[0m     \u001b[39m\"\u001b[39m\u001b[39mfind_element_by_xpath is deprecated. Please use find_element(by=By.XPATH, value=xpath) instead\u001b[39m\u001b[39m\"\u001b[39m,\n\u001b[0;32m    523\u001b[0m     \u001b[39mDeprecationWarning\u001b[39;00m,\n\u001b[0;32m    524\u001b[0m     stacklevel\u001b[39m=\u001b[39m\u001b[39m2\u001b[39m,\n\u001b[0;32m    525\u001b[0m )\n\u001b[1;32m--> 526\u001b[0m \u001b[39mreturn\u001b[39;00m \u001b[39mself\u001b[39;49m\u001b[39m.\u001b[39;49mfind_element(by\u001b[39m=\u001b[39;49mBy\u001b[39m.\u001b[39;49mXPATH, value\u001b[39m=\u001b[39;49mxpath)\n",
      "File \u001b[1;32mc:\\Users\\JMYoo_Gram\\anaconda3\\lib\\site-packages\\selenium\\webdriver\\remote\\webdriver.py:1251\u001b[0m, in \u001b[0;36mWebDriver.find_element\u001b[1;34m(self, by, value)\u001b[0m\n\u001b[0;32m   1249\u001b[0m     value \u001b[39m=\u001b[39m \u001b[39m'\u001b[39m\u001b[39m[name=\u001b[39m\u001b[39m\"\u001b[39m\u001b[39m%s\u001b[39;00m\u001b[39m\"\u001b[39m\u001b[39m]\u001b[39m\u001b[39m'\u001b[39m \u001b[39m%\u001b[39m value\n\u001b[1;32m-> 1251\u001b[0m \u001b[39mreturn\u001b[39;00m \u001b[39mself\u001b[39;49m\u001b[39m.\u001b[39;49mexecute(Command\u001b[39m.\u001b[39;49mFIND_ELEMENT, {\n\u001b[0;32m   1252\u001b[0m     \u001b[39m'\u001b[39;49m\u001b[39musing\u001b[39;49m\u001b[39m'\u001b[39;49m: by,\n\u001b[0;32m   1253\u001b[0m     \u001b[39m'\u001b[39;49m\u001b[39mvalue\u001b[39;49m\u001b[39m'\u001b[39;49m: value})[\u001b[39m'\u001b[39m\u001b[39mvalue\u001b[39m\u001b[39m'\u001b[39m]\n",
      "File \u001b[1;32mc:\\Users\\JMYoo_Gram\\anaconda3\\lib\\site-packages\\selenium\\webdriver\\remote\\webdriver.py:428\u001b[0m, in \u001b[0;36mWebDriver.execute\u001b[1;34m(self, driver_command, params)\u001b[0m\n\u001b[0;32m    427\u001b[0m params \u001b[39m=\u001b[39m \u001b[39mself\u001b[39m\u001b[39m.\u001b[39m_wrap_value(params)\n\u001b[1;32m--> 428\u001b[0m response \u001b[39m=\u001b[39m \u001b[39mself\u001b[39;49m\u001b[39m.\u001b[39;49mcommand_executor\u001b[39m.\u001b[39;49mexecute(driver_command, params)\n\u001b[0;32m    429\u001b[0m \u001b[39mif\u001b[39;00m response:\n",
      "File \u001b[1;32mc:\\Users\\JMYoo_Gram\\anaconda3\\lib\\site-packages\\selenium\\webdriver\\remote\\remote_connection.py:347\u001b[0m, in \u001b[0;36mRemoteConnection.execute\u001b[1;34m(self, command, params)\u001b[0m\n\u001b[0;32m    346\u001b[0m url \u001b[39m=\u001b[39m \u001b[39mf\u001b[39m\u001b[39m\"\u001b[39m\u001b[39m{\u001b[39;00m\u001b[39mself\u001b[39m\u001b[39m.\u001b[39m_url\u001b[39m}\u001b[39;00m\u001b[39m{\u001b[39;00mpath\u001b[39m}\u001b[39;00m\u001b[39m\"\u001b[39m\n\u001b[1;32m--> 347\u001b[0m \u001b[39mreturn\u001b[39;00m \u001b[39mself\u001b[39;49m\u001b[39m.\u001b[39;49m_request(command_info[\u001b[39m0\u001b[39;49m], url, body\u001b[39m=\u001b[39;49mdata)\n",
      "File \u001b[1;32mc:\\Users\\JMYoo_Gram\\anaconda3\\lib\\site-packages\\selenium\\webdriver\\remote\\remote_connection.py:369\u001b[0m, in \u001b[0;36mRemoteConnection._request\u001b[1;34m(self, method, url, body)\u001b[0m\n\u001b[0;32m    368\u001b[0m \u001b[39mif\u001b[39;00m \u001b[39mself\u001b[39m\u001b[39m.\u001b[39mkeep_alive:\n\u001b[1;32m--> 369\u001b[0m     response \u001b[39m=\u001b[39m \u001b[39mself\u001b[39;49m\u001b[39m.\u001b[39;49m_conn\u001b[39m.\u001b[39;49mrequest(method, url, body\u001b[39m=\u001b[39;49mbody, headers\u001b[39m=\u001b[39;49mheaders)\n\u001b[0;32m    370\u001b[0m     statuscode \u001b[39m=\u001b[39m response\u001b[39m.\u001b[39mstatus\n",
      "File \u001b[1;32mc:\\Users\\JMYoo_Gram\\anaconda3\\lib\\site-packages\\urllib3\\request.py:78\u001b[0m, in \u001b[0;36mRequestMethods.request\u001b[1;34m(self, method, url, fields, headers, **urlopen_kw)\u001b[0m\n\u001b[0;32m     77\u001b[0m \u001b[39melse\u001b[39;00m:\n\u001b[1;32m---> 78\u001b[0m     \u001b[39mreturn\u001b[39;00m \u001b[39mself\u001b[39m\u001b[39m.\u001b[39mrequest_encode_body(\n\u001b[0;32m     79\u001b[0m         method, url, fields\u001b[39m=\u001b[39mfields, headers\u001b[39m=\u001b[39mheaders, \u001b[39m*\u001b[39m\u001b[39m*\u001b[39murlopen_kw\n\u001b[0;32m     80\u001b[0m     )\n",
      "File \u001b[1;32mc:\\Users\\JMYoo_Gram\\anaconda3\\lib\\site-packages\\urllib3\\request.py:170\u001b[0m, in \u001b[0;36mRequestMethods.request_encode_body\u001b[1;34m(self, method, url, fields, headers, encode_multipart, multipart_boundary, **urlopen_kw)\u001b[0m\n\u001b[0;32m    168\u001b[0m extra_kw\u001b[39m.\u001b[39mupdate(urlopen_kw)\n\u001b[1;32m--> 170\u001b[0m \u001b[39mreturn\u001b[39;00m \u001b[39mself\u001b[39m\u001b[39m.\u001b[39murlopen(method, url, \u001b[39m*\u001b[39m\u001b[39m*\u001b[39mextra_kw)\n",
      "File \u001b[1;32mc:\\Users\\JMYoo_Gram\\anaconda3\\lib\\site-packages\\urllib3\\poolmanager.py:376\u001b[0m, in \u001b[0;36mPoolManager.urlopen\u001b[1;34m(self, method, url, redirect, **kw)\u001b[0m\n\u001b[0;32m    375\u001b[0m \u001b[39melse\u001b[39;00m:\n\u001b[1;32m--> 376\u001b[0m     response \u001b[39m=\u001b[39m conn\u001b[39m.\u001b[39murlopen(method, u\u001b[39m.\u001b[39mrequest_uri, \u001b[39m*\u001b[39m\u001b[39m*\u001b[39mkw)\n\u001b[0;32m    378\u001b[0m redirect_location \u001b[39m=\u001b[39m redirect \u001b[39mand\u001b[39;00m response\u001b[39m.\u001b[39mget_redirect_location()\n",
      "File \u001b[1;32mc:\\Users\\JMYoo_Gram\\anaconda3\\lib\\site-packages\\urllib3\\connectionpool.py:703\u001b[0m, in \u001b[0;36mHTTPConnectionPool.urlopen\u001b[1;34m(self, method, url, body, headers, retries, redirect, assert_same_host, timeout, pool_timeout, release_conn, chunked, body_pos, **response_kw)\u001b[0m\n\u001b[0;32m    702\u001b[0m \u001b[39m# Make the request on the httplib connection object.\u001b[39;00m\n\u001b[1;32m--> 703\u001b[0m httplib_response \u001b[39m=\u001b[39m \u001b[39mself\u001b[39;49m\u001b[39m.\u001b[39;49m_make_request(\n\u001b[0;32m    704\u001b[0m     conn,\n\u001b[0;32m    705\u001b[0m     method,\n\u001b[0;32m    706\u001b[0m     url,\n\u001b[0;32m    707\u001b[0m     timeout\u001b[39m=\u001b[39;49mtimeout_obj,\n\u001b[0;32m    708\u001b[0m     body\u001b[39m=\u001b[39;49mbody,\n\u001b[0;32m    709\u001b[0m     headers\u001b[39m=\u001b[39;49mheaders,\n\u001b[0;32m    710\u001b[0m     chunked\u001b[39m=\u001b[39;49mchunked,\n\u001b[0;32m    711\u001b[0m )\n\u001b[0;32m    713\u001b[0m \u001b[39m# If we're going to release the connection in ``finally:``, then\u001b[39;00m\n\u001b[0;32m    714\u001b[0m \u001b[39m# the response doesn't need to know about the connection. Otherwise\u001b[39;00m\n\u001b[0;32m    715\u001b[0m \u001b[39m# it will also try to release it and we'll have a double-release\u001b[39;00m\n\u001b[0;32m    716\u001b[0m \u001b[39m# mess.\u001b[39;00m\n",
      "File \u001b[1;32mc:\\Users\\JMYoo_Gram\\anaconda3\\lib\\site-packages\\urllib3\\connectionpool.py:449\u001b[0m, in \u001b[0;36mHTTPConnectionPool._make_request\u001b[1;34m(self, conn, method, url, timeout, chunked, **httplib_request_kw)\u001b[0m\n\u001b[0;32m    445\u001b[0m         \u001b[39mexcept\u001b[39;00m \u001b[39mBaseException\u001b[39;00m \u001b[39mas\u001b[39;00m e:\n\u001b[0;32m    446\u001b[0m             \u001b[39m# Remove the TypeError from the exception chain in\u001b[39;00m\n\u001b[0;32m    447\u001b[0m             \u001b[39m# Python 3 (including for exceptions like SystemExit).\u001b[39;00m\n\u001b[0;32m    448\u001b[0m             \u001b[39m# Otherwise it looks like a bug in the code.\u001b[39;00m\n\u001b[1;32m--> 449\u001b[0m             six\u001b[39m.\u001b[39;49mraise_from(e, \u001b[39mNone\u001b[39;49;00m)\n\u001b[0;32m    450\u001b[0m \u001b[39mexcept\u001b[39;00m (SocketTimeout, BaseSSLError, SocketError) \u001b[39mas\u001b[39;00m e:\n",
      "File \u001b[1;32m<string>:3\u001b[0m, in \u001b[0;36mraise_from\u001b[1;34m(value, from_value)\u001b[0m\n",
      "File \u001b[1;32mc:\\Users\\JMYoo_Gram\\anaconda3\\lib\\site-packages\\urllib3\\connectionpool.py:444\u001b[0m, in \u001b[0;36mHTTPConnectionPool._make_request\u001b[1;34m(self, conn, method, url, timeout, chunked, **httplib_request_kw)\u001b[0m\n\u001b[0;32m    443\u001b[0m \u001b[39mtry\u001b[39;00m:\n\u001b[1;32m--> 444\u001b[0m     httplib_response \u001b[39m=\u001b[39m conn\u001b[39m.\u001b[39;49mgetresponse()\n\u001b[0;32m    445\u001b[0m \u001b[39mexcept\u001b[39;00m \u001b[39mBaseException\u001b[39;00m \u001b[39mas\u001b[39;00m e:\n\u001b[0;32m    446\u001b[0m     \u001b[39m# Remove the TypeError from the exception chain in\u001b[39;00m\n\u001b[0;32m    447\u001b[0m     \u001b[39m# Python 3 (including for exceptions like SystemExit).\u001b[39;00m\n\u001b[0;32m    448\u001b[0m     \u001b[39m# Otherwise it looks like a bug in the code.\u001b[39;00m\n",
      "File \u001b[1;32mc:\\Users\\JMYoo_Gram\\anaconda3\\lib\\http\\client.py:1377\u001b[0m, in \u001b[0;36mHTTPConnection.getresponse\u001b[1;34m(self)\u001b[0m\n\u001b[0;32m   1376\u001b[0m \u001b[39mtry\u001b[39;00m:\n\u001b[1;32m-> 1377\u001b[0m     response\u001b[39m.\u001b[39;49mbegin()\n\u001b[0;32m   1378\u001b[0m \u001b[39mexcept\u001b[39;00m \u001b[39mConnectionError\u001b[39;00m:\n",
      "File \u001b[1;32mc:\\Users\\JMYoo_Gram\\anaconda3\\lib\\http\\client.py:320\u001b[0m, in \u001b[0;36mHTTPResponse.begin\u001b[1;34m(self)\u001b[0m\n\u001b[0;32m    319\u001b[0m \u001b[39mwhile\u001b[39;00m \u001b[39mTrue\u001b[39;00m:\n\u001b[1;32m--> 320\u001b[0m     version, status, reason \u001b[39m=\u001b[39m \u001b[39mself\u001b[39;49m\u001b[39m.\u001b[39;49m_read_status()\n\u001b[0;32m    321\u001b[0m     \u001b[39mif\u001b[39;00m status \u001b[39m!=\u001b[39m CONTINUE:\n",
      "File \u001b[1;32mc:\\Users\\JMYoo_Gram\\anaconda3\\lib\\http\\client.py:281\u001b[0m, in \u001b[0;36mHTTPResponse._read_status\u001b[1;34m(self)\u001b[0m\n\u001b[0;32m    280\u001b[0m \u001b[39mdef\u001b[39;00m \u001b[39m_read_status\u001b[39m(\u001b[39mself\u001b[39m):\n\u001b[1;32m--> 281\u001b[0m     line \u001b[39m=\u001b[39m \u001b[39mstr\u001b[39m(\u001b[39mself\u001b[39;49m\u001b[39m.\u001b[39;49mfp\u001b[39m.\u001b[39;49mreadline(_MAXLINE \u001b[39m+\u001b[39;49m \u001b[39m1\u001b[39;49m), \u001b[39m\"\u001b[39m\u001b[39miso-8859-1\u001b[39m\u001b[39m\"\u001b[39m)\n\u001b[0;32m    282\u001b[0m     \u001b[39mif\u001b[39;00m \u001b[39mlen\u001b[39m(line) \u001b[39m>\u001b[39m _MAXLINE:\n",
      "File \u001b[1;32mc:\\Users\\JMYoo_Gram\\anaconda3\\lib\\socket.py:704\u001b[0m, in \u001b[0;36mSocketIO.readinto\u001b[1;34m(self, b)\u001b[0m\n\u001b[0;32m    703\u001b[0m \u001b[39mtry\u001b[39;00m:\n\u001b[1;32m--> 704\u001b[0m     \u001b[39mreturn\u001b[39;00m \u001b[39mself\u001b[39;49m\u001b[39m.\u001b[39;49m_sock\u001b[39m.\u001b[39;49mrecv_into(b)\n\u001b[0;32m    705\u001b[0m \u001b[39mexcept\u001b[39;00m timeout:\n",
      "\u001b[1;31mKeyboardInterrupt\u001b[0m: ",
      "\nDuring handling of the above exception, another exception occurred:\n",
      "\u001b[1;31mNoSuchElementException\u001b[0m                    Traceback (most recent call last)",
      "\u001b[1;32mc:\\Code\\AutoBot\\KTX.ipynb 셀 3\u001b[0m in \u001b[0;36m<cell line: 11>\u001b[1;34m()\u001b[0m\n\u001b[0;32m     <a href='vscode-notebook-cell:/c%3A/Code/AutoBot/KTX.ipynb#ch0000002?line=17'>18</a>\u001b[0m \u001b[39mexcept\u001b[39;00m:\n\u001b[0;32m     <a href='vscode-notebook-cell:/c%3A/Code/AutoBot/KTX.ipynb#ch0000002?line=18'>19</a>\u001b[0m     res_but \u001b[39m=\u001b[39m \u001b[39m\"\u001b[39m\u001b[39m/html/body/div[1]/div[3]/div/div[1]/form[1]/div/div[4]/table[1]/tbody/tr[1]/td[6]/img\u001b[39m\u001b[39m\"\u001b[39m\n\u001b[1;32m---> <a href='vscode-notebook-cell:/c%3A/Code/AutoBot/KTX.ipynb#ch0000002?line=19'>20</a>\u001b[0m     button_type \u001b[39m=\u001b[39m driver\u001b[39m.\u001b[39;49mfind_element_by_xpath(\u001b[39m\"\u001b[39;49m\u001b[39m/html/body/div[1]/div[3]/div/div[1]/form[1]/div/div[4]/table[1]/tbody/tr[1]/td[6]/img\u001b[39;49m\u001b[39m\"\u001b[39;49m)\u001b[39m.\u001b[39mget_attribute(\u001b[39m'\u001b[39m\u001b[39malt\u001b[39m\u001b[39m'\u001b[39m)\n\u001b[0;32m     <a href='vscode-notebook-cell:/c%3A/Code/AutoBot/KTX.ipynb#ch0000002?line=20'>21</a>\u001b[0m     \u001b[39m#매진시 하이퍼링크(a) 없이 다순 img로 표시됨\u001b[39;00m\n\u001b[0;32m     <a href='vscode-notebook-cell:/c%3A/Code/AutoBot/KTX.ipynb#ch0000002?line=22'>23</a>\u001b[0m \u001b[39mif\u001b[39;00m button_type \u001b[39m==\u001b[39m \u001b[39m\"\u001b[39m\u001b[39m예약하기\u001b[39m\u001b[39m\"\u001b[39m:\n",
      "File \u001b[1;32mc:\\Users\\JMYoo_Gram\\anaconda3\\lib\\site-packages\\selenium\\webdriver\\remote\\webdriver.py:526\u001b[0m, in \u001b[0;36mWebDriver.find_element_by_xpath\u001b[1;34m(self, xpath)\u001b[0m\n\u001b[0;32m    504\u001b[0m \u001b[39m\"\"\"\u001b[39;00m\n\u001b[0;32m    505\u001b[0m \u001b[39mFinds an element by xpath.\u001b[39;00m\n\u001b[0;32m    506\u001b[0m \n\u001b[1;32m   (...)\u001b[0m\n\u001b[0;32m    519\u001b[0m \u001b[39m        element = driver.find_element_by_xpath('//div/td[1]')\u001b[39;00m\n\u001b[0;32m    520\u001b[0m \u001b[39m\"\"\"\u001b[39;00m\n\u001b[0;32m    521\u001b[0m warnings\u001b[39m.\u001b[39mwarn(\n\u001b[0;32m    522\u001b[0m     \u001b[39m\"\u001b[39m\u001b[39mfind_element_by_xpath is deprecated. Please use find_element(by=By.XPATH, value=xpath) instead\u001b[39m\u001b[39m\"\u001b[39m,\n\u001b[0;32m    523\u001b[0m     \u001b[39mDeprecationWarning\u001b[39;00m,\n\u001b[0;32m    524\u001b[0m     stacklevel\u001b[39m=\u001b[39m\u001b[39m2\u001b[39m,\n\u001b[0;32m    525\u001b[0m )\n\u001b[1;32m--> 526\u001b[0m \u001b[39mreturn\u001b[39;00m \u001b[39mself\u001b[39;49m\u001b[39m.\u001b[39;49mfind_element(by\u001b[39m=\u001b[39;49mBy\u001b[39m.\u001b[39;49mXPATH, value\u001b[39m=\u001b[39;49mxpath)\n",
      "File \u001b[1;32mc:\\Users\\JMYoo_Gram\\anaconda3\\lib\\site-packages\\selenium\\webdriver\\remote\\webdriver.py:1251\u001b[0m, in \u001b[0;36mWebDriver.find_element\u001b[1;34m(self, by, value)\u001b[0m\n\u001b[0;32m   1248\u001b[0m     by \u001b[39m=\u001b[39m By\u001b[39m.\u001b[39mCSS_SELECTOR\n\u001b[0;32m   1249\u001b[0m     value \u001b[39m=\u001b[39m \u001b[39m'\u001b[39m\u001b[39m[name=\u001b[39m\u001b[39m\"\u001b[39m\u001b[39m%s\u001b[39;00m\u001b[39m\"\u001b[39m\u001b[39m]\u001b[39m\u001b[39m'\u001b[39m \u001b[39m%\u001b[39m value\n\u001b[1;32m-> 1251\u001b[0m \u001b[39mreturn\u001b[39;00m \u001b[39mself\u001b[39;49m\u001b[39m.\u001b[39;49mexecute(Command\u001b[39m.\u001b[39;49mFIND_ELEMENT, {\n\u001b[0;32m   1252\u001b[0m     \u001b[39m'\u001b[39;49m\u001b[39musing\u001b[39;49m\u001b[39m'\u001b[39;49m: by,\n\u001b[0;32m   1253\u001b[0m     \u001b[39m'\u001b[39;49m\u001b[39mvalue\u001b[39;49m\u001b[39m'\u001b[39;49m: value})[\u001b[39m'\u001b[39m\u001b[39mvalue\u001b[39m\u001b[39m'\u001b[39m]\n",
      "File \u001b[1;32mc:\\Users\\JMYoo_Gram\\anaconda3\\lib\\site-packages\\selenium\\webdriver\\remote\\webdriver.py:430\u001b[0m, in \u001b[0;36mWebDriver.execute\u001b[1;34m(self, driver_command, params)\u001b[0m\n\u001b[0;32m    428\u001b[0m response \u001b[39m=\u001b[39m \u001b[39mself\u001b[39m\u001b[39m.\u001b[39mcommand_executor\u001b[39m.\u001b[39mexecute(driver_command, params)\n\u001b[0;32m    429\u001b[0m \u001b[39mif\u001b[39;00m response:\n\u001b[1;32m--> 430\u001b[0m     \u001b[39mself\u001b[39;49m\u001b[39m.\u001b[39;49merror_handler\u001b[39m.\u001b[39;49mcheck_response(response)\n\u001b[0;32m    431\u001b[0m     response[\u001b[39m'\u001b[39m\u001b[39mvalue\u001b[39m\u001b[39m'\u001b[39m] \u001b[39m=\u001b[39m \u001b[39mself\u001b[39m\u001b[39m.\u001b[39m_unwrap_value(\n\u001b[0;32m    432\u001b[0m         response\u001b[39m.\u001b[39mget(\u001b[39m'\u001b[39m\u001b[39mvalue\u001b[39m\u001b[39m'\u001b[39m, \u001b[39mNone\u001b[39;00m))\n\u001b[0;32m    433\u001b[0m     \u001b[39mreturn\u001b[39;00m response\n",
      "File \u001b[1;32mc:\\Users\\JMYoo_Gram\\anaconda3\\lib\\site-packages\\selenium\\webdriver\\remote\\errorhandler.py:247\u001b[0m, in \u001b[0;36mErrorHandler.check_response\u001b[1;34m(self, response)\u001b[0m\n\u001b[0;32m    245\u001b[0m         alert_text \u001b[39m=\u001b[39m value[\u001b[39m'\u001b[39m\u001b[39malert\u001b[39m\u001b[39m'\u001b[39m]\u001b[39m.\u001b[39mget(\u001b[39m'\u001b[39m\u001b[39mtext\u001b[39m\u001b[39m'\u001b[39m)\n\u001b[0;32m    246\u001b[0m     \u001b[39mraise\u001b[39;00m exception_class(message, screen, stacktrace, alert_text)  \u001b[39m# type: ignore[call-arg]  # mypy is not smart enough here\u001b[39;00m\n\u001b[1;32m--> 247\u001b[0m \u001b[39mraise\u001b[39;00m exception_class(message, screen, stacktrace)\n",
      "\u001b[1;31mNoSuchElementException\u001b[0m: Message: no such element: Unable to locate element: {\"method\":\"xpath\",\"selector\":\"/html/body/div[1]/div[3]/div/div[1]/form[1]/div/div[4]/table[1]/tbody/tr[1]/td[6]/img\"}\n  (Session info: chrome=103.0.5060.114)\nStacktrace:\nBacktrace:\n\tOrdinal0 [0x0107D953+2414931]\n\tOrdinal0 [0x0100F5E1+1963489]\n\tOrdinal0 [0x00EFC6B8+837304]\n\tOrdinal0 [0x00F29500+1021184]\n\tOrdinal0 [0x00F2979B+1021851]\n\tOrdinal0 [0x00F56502+1205506]\n\tOrdinal0 [0x00F444E4+1131748]\n\tOrdinal0 [0x00F54812+1198098]\n\tOrdinal0 [0x00F442B6+1131190]\n\tOrdinal0 [0x00F1E860+976992]\n\tOrdinal0 [0x00F1F756+980822]\n\tGetHandleVerifier [0x012ECC62+2510274]\n\tGetHandleVerifier [0x012DF760+2455744]\n\tGetHandleVerifier [0x0110EABA+551962]\n\tGetHandleVerifier [0x0110D916+547446]\n\tOrdinal0 [0x01015F3B+1990459]\n\tOrdinal0 [0x0101A898+2009240]\n\tOrdinal0 [0x0101A985+2009477]\n\tOrdinal0 [0x01023AD1+2046673]\n\tBaseThreadInitThunk [0x77ACFA29+25]\n\tRtlGetAppContainerNamedObjectPath [0x77E57A9E+286]\n\tRtlGetAppContainerNamedObjectPath [0x77E57A6E+238]\n"
     ]
    }
   ],
   "source": [
    "# < 일반실 예매 처리 (td[6] : 일반실, td[5]:특실)>\n",
    "progress = 0        ##초기 진입 : 0, 예약하기 완료시 : 1\n",
    "refresh_but=\"/html/body/div[1]/div[3]/div/div[1]/form[1]/div/div[3]/p/a/img\" ## refresh button\n",
    "# res_but0  = \"/html/body/div[1]/div[3]/div/div[1]/form[1]/div/div[4]/table[1]/tbody/tr[1]/td[6]/a/img\"\n",
    "# res_but1 = \"/html/body/div[1]/div[3]/div/div[1]/form[1]/div/div[4]/table[1]/tbody/tr[1]/td[6]/a[1]/img\"\n",
    "\n",
    "# # xpath5=\"/html/body/div[1]/div/div/div[3]/div/div[1]/div[2]/div/p[2]/a\"\n",
    "# yy0=driver.find_element_by_xpath(res_but0).get_attribute('alt')\n",
    "# yy1=driver.find_element_by_xpath(res_but1).get_attribute('alt') ##좌석선택 같이 있는 경우\n",
    "\n",
    "while progress==0:\n",
    "    driver.implicitly_wait(3)\n",
    "    try:\n",
    "        #예약하기 or 입석+좌석 등.. 하이퍼링크가 살아있는경우\n",
    "        res_but = \"/html/body/div[1]/div[3]/div/div[1]/form[1]/div/div[4]/table[1]/tbody/tr[1]/td[6]/a[1]/img\"\n",
    "        button_type = driver.find_element_by_xpath(\"/html/body/div[1]/div[3]/div/div[1]/form[1]/div/div[4]/table[1]/tbody/tr[1]/td[6]/a[1]/img\").get_attribute('alt')\n",
    "        #다를경우 하이퍼링크 포함... 그러나 하이퍼링크가 좌석선택과 예약하기이경우 a[1]로 첫번째거 선택하도록 변경해야함...\n",
    "    except:\n",
    "        res_but = \"/html/body/div[1]/div[3]/div/div[1]/form[1]/div/div[4]/table[1]/tbody/tr[1]/td[6]/img\"\n",
    "        button_type = driver.find_element_by_xpath(\"/html/body/div[1]/div[3]/div/div[1]/form[1]/div/div[4]/table[1]/tbody/tr[1]/td[6]/img\").get_attribute('alt')\n",
    "        #매진시 하이퍼링크(a) 없이 다순 img로 표시됨\n",
    "\n",
    "    if button_type == \"예약하기\":\n",
    "        try:\n",
    "            driver.find_element_by_xpath(res_but).click()\n",
    "            bot.sendMessage(chat_id = '5559539231', text=\"텔레그램 Test\")\n",
    "            progress = 1\n",
    "        except:\n",
    "            pass\n",
    "        break\n",
    "    else:\n",
    "        try:\n",
    "            driver.find_element_by_xpath(refresh_but).click()\n",
    "        except:\n",
    "            pass\n",
    "    driver.implicitly_wait(5)"
   ]
  },
  {
   "cell_type": "code",
   "execution_count": null,
   "id": "192b9ae1",
   "metadata": {},
   "outputs": [],
   "source": [
    "# 추가 구현 필요 사항\n",
    "\n",
    "# - 예외 처리(인터넷 및 웹사이트 오류)\n",
    "# - 예약 성공 시 알림(텔레그램?, 카카오톡?)\n",
    "# - Time sleep 과 selenium 사이의 implicit wait 등과의 차이 알아보기"
   ]
  },
  {
   "cell_type": "code",
   "execution_count": 11,
   "id": "a22c3e17",
   "metadata": {},
   "outputs": [
    {
     "name": "stdout",
     "output_type": "stream",
     "text": [
      "{'access_token': 'SIul4KPzkp8q7E1kb_2HsrdlP_OEXZc4qU5UH5LECilwUQAAAYHyayW3', 'token_type': 'bearer', 'refresh_token': 'VnJXRM3ig_HpES1ZNi8_dZ8vdt01ry7G0QwHHZqXCilwUQAAAYHyayW1', 'expires_in': 21599, 'scope': 'talk_message', 'refresh_token_expires_in': 5183999}\n"
     ]
    }
   ],
   "source": [
    "import requests\n",
    "\n",
    "url = 'https://kauth.kakao.com/oauth/token'\n",
    "rest_api_key = '19568ce9d103e246eedd4c4148510cbe'\n",
    "redirect_uri = 'https://www.naver.com'\n",
    "authorize_code = '3Cc1tR0ji6rL7tgmxHoJRQRe-VLrN_FrAJ6SUvTQukoJ0no28obcjjZEVsdzZQDkFcVL0Qopb9QAAAGB8mcE7w'\n",
    "\n",
    "data = {\n",
    "    'grant_type':'authorization_code',\n",
    "    'client_id':rest_api_key,\n",
    "    'redirect_uri':redirect_uri,\n",
    "    'code': authorize_code,\n",
    "    }\n",
    "\n",
    "response = requests.post(url, data=data)\n",
    "tokens = response.json()\n",
    "print(tokens)\n",
    "\n",
    "# json 저장\n",
    "import json\n",
    "\n",
    "with open(\"kakao_code.json\",\"w\") as fp:\n",
    "    json.dump(tokens, fp)"
   ]
  },
  {
   "cell_type": "code",
   "execution_count": 15,
   "id": "94968ceb",
   "metadata": {},
   "outputs": [
    {
     "data": {
      "text/plain": [
       "200"
      ]
     },
     "execution_count": 15,
     "metadata": {},
     "output_type": "execute_result"
    }
   ],
   "source": [
    "import requests\n",
    "import json\n",
    "\n",
    "#발행한 토큰 불러오기\n",
    "with open(\"kakao_code.json\",\"r\") as kakao:\n",
    "    tokens = json.load(kakao)\n",
    "\n",
    "url=\"https://kapi.kakao.com/v2/api/talk/memo/default/send\"\n",
    "\n",
    "headers={\n",
    "    \"Authorization\" : \"Bearer \" + tokens[\"access_token\"]\n",
    "}\n",
    "\n",
    "data = {\n",
    "       'object_type': 'text',\n",
    "       'text': '테스트입니다',\n",
    "       'link': {\n",
    "           'web_url': 'https://developers.kakao.com',\n",
    "           'mobile_web_url': 'https://developers.kakao.com'\n",
    "       },\n",
    "       'button_title': '키워드'\n",
    "   }\n",
    "   \n",
    "data = {'template_object': json.dumps(data)}\n",
    "response = requests.post(url, headers=headers, data=data)\n",
    "response.status_code"
   ]
  },
  {
   "cell_type": "code",
   "execution_count": 18,
   "id": "5fd68d62",
   "metadata": {},
   "outputs": [
    {
     "name": "stdout",
     "output_type": "stream",
     "text": [
      "[<telegram.update.Update object at 0x00000258B49FFC40>]\n",
      "{'update_id': 155425276, 'message': {'photo': [], 'text': 'ddddd', 'message_id': 3, 'entities': [], 'new_chat_members': [], 'supergroup_chat_created': False, 'new_chat_photo': [], 'chat': {'type': 'private', 'last_name': 'Yoo', 'id': 5559539231, 'first_name': 'Jeongmock'}, 'delete_chat_photo': False, 'channel_chat_created': False, 'caption_entities': [], 'date': 1657630899, 'group_chat_created': False, 'from': {'first_name': 'Jeongmock', 'language_code': 'ko', 'last_name': 'Yoo', 'id': 5559539231, 'is_bot': False}}}\n",
      "start telegram chat bot\n"
     ]
    }
   ],
   "source": [
    "import telegram\n",
    "\n",
    "telgm_token = '5523286949:AAH-dLh7miR9gU9aMrGUZHOOLiuRlWHm0q4'\n",
    "bot = telegram.Bot(token = telgm_token)\n",
    "updates = bot.getUpdates()\n",
    "print(updates)\n",
    "\n",
    "for i in updates:\n",
    "    print(i)\n",
    "print('start telegram chat bot')\n",
    "\n",
    "#'5559539231'"
   ]
  },
  {
   "cell_type": "code",
   "execution_count": 23,
   "id": "fa5035dc",
   "metadata": {},
   "outputs": [
    {
     "data": {
      "text/plain": [
       "<telegram.message.Message at 0x258b4c3f810>"
      ]
     },
     "execution_count": 23,
     "metadata": {},
     "output_type": "execute_result"
    }
   ],
   "source": [
    "import telegram\n",
    "\n",
    "telgm_token = '5523286949:AAH-dLh7miR9gU9aMrGUZHOOLiuRlWHm0q4'\n",
    "\n",
    "bot = telegram.Bot(token = telgm_token)\n",
    "\n",
    "#updates = bot.getUpdates()\n",
    "\n",
    "bot.sendMessage(chat_id = '5559539231', text=\"안녕하세요 GGCoding 채봇입니다.\")"
   ]
  },
  {
   "cell_type": "code",
   "execution_count": 20,
   "id": "1ff9c333",
   "metadata": {},
   "outputs": [
    {
     "data": {
      "text/plain": [
       "<telegram.bot.Bot at 0x258b4a9e120>"
      ]
     },
     "execution_count": 20,
     "metadata": {},
     "output_type": "execute_result"
    }
   ],
   "source": [
    "bot"
   ]
  }
 ],
 "metadata": {
  "kernelspec": {
   "display_name": "Python 3.9.12 ('base')",
   "language": "python",
   "name": "python3"
  },
  "language_info": {
   "codemirror_mode": {
    "name": "ipython",
    "version": 3
   },
   "file_extension": ".py",
   "mimetype": "text/x-python",
   "name": "python",
   "nbconvert_exporter": "python",
   "pygments_lexer": "ipython3",
   "version": "3.9.12"
  },
  "vscode": {
   "interpreter": {
    "hash": "45b08632729e76a5475d7e492a0162fb5eca32fe2f5a46ab4a6f1c89bc4509fa"
   }
  }
 },
 "nbformat": 4,
 "nbformat_minor": 5
}
