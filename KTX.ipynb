{
 "cells": [
  {
   "cell_type": "code",
   "execution_count": 4,
   "id": "cf8da24e",
   "metadata": {
    "scrolled": true
   },
   "outputs": [],
   "source": [
    "## 코레일 로그인하기 \n",
    "\n",
    "import warnings\n",
    "warnings.filterwarnings(action='ignore')\n",
    "\n",
    "from selenium import webdriver\n",
    "import time\n",
    "import requests\n",
    "from bs4 import BeautifulSoup\n",
    "\n",
    "# ##코레일 ID 정보 입력\n",
    "# member_num = input('코레일멤버쉽 번호 입력 : ')\n",
    "# password = input('비밀 번호 입력 : ')\n",
    "\n",
    "# ## 예매 정보 입력\n",
    "# start = input('출발지 입력 : ')\n",
    "# end = input('도착지 입력 : ')\n",
    "# year = input('년도 입력 (Ex.2022): ')\n",
    "# month = input('월 입력 (1~12): ')\n",
    "# day = input('일 입력 (1~31): ')\n",
    "# hous = input('출발시간 입력 (0~23): ') #0~23 사이로 입력#\n",
    "\n",
    "## 내 아이디로 미리 설정\n",
    "member_num = '0960000414'\n",
    "password = 'dbwjdahr11!'\n",
    "\n",
    "## 예매 정보 입력\n",
    "start = '마산'\n",
    "end = '서울'\n",
    "year = '2022'\n",
    "month = '7'\n",
    "day = '10'\n",
    "hous = '15'"
   ]
  },
  {
   "cell_type": "code",
   "execution_count": 12,
   "id": "9fa35b34",
   "metadata": {},
   "outputs": [],
   "source": [
    "## Chrome Driver 경로 지정\n",
    "driverPath = r\"C:/Users/JMYoo_Gram/Chromedriver/chromedriver.exe\" \n",
    "driver = webdriver.Chrome(driverPath) \n",
    "driver.implicitly_wait(4)\n",
    "driver.get('http://www.letskorail.com/korail/com/login.do') #코레일 로그인화면 접속\n",
    "time.sleep(0.5)\n",
    "\n",
    "#코레일 멤버쉽 번호 입력\n",
    "driver.find_element_by_name('txtMember').send_keys(member_num)\n",
    "time.sleep(0.5)\n",
    "\n",
    "#비밀번호 입력\n",
    "driver.find_element_by_name('txtPwd').send_keys(password)\n",
    "\n",
    "#로그인 버튼 클릭\n",
    "driver.find_element_by_xpath(\"/html/body/div[1]/div[3]/div/div[1]/div[2]/div[1]/div[1]/form[1]/fieldset/div[1]/ul/li[3]/a/img\").click()\n",
    "driver.implicitly_wait(3)\n",
    "time.sleep(0.5)\n",
    "\n",
    "# < pop-up창 없애기 >\n",
    "time.sleep(3)\n",
    "driver.window_handles    # 창 개수 확인\n",
    "driver.window_handles[0] # 메인창\n",
    "driver.window_handles[1] # 첫 번째 팝업 창\n",
    "driver.switch_to.window(driver.window_handles[1]) # 첫 번째 팝업 창으로 제어권 옮기기\n",
    "driver.close()                                    # 첫 번째 팝업 창 닫기\n",
    "driver.switch_to.window(driver.window_handles[0]) # 홈 화면 으로 제어권 옮기기\n",
    "time.sleep(1)\n",
    "\n",
    "#예약 화면 이동\n",
    "driver.get('http://www.letskorail.com/ebizprd/EbizPrdTicketpr21100W_pr21110.do')\n",
    "driver.implicitly_wait(3)\n",
    "\n",
    "#예매 정보 입력\n",
    "driver.find_element_by_name('txtGoStart').clear()\n",
    "driver.find_element_by_name('txtGoStart').send_keys(start)\n",
    "driver.find_element_by_name('txtGoEnd').clear()\n",
    "driver.find_element_by_name('txtGoEnd').send_keys(end)\n",
    "driver.find_element_by_name('selGoYear').send_keys(year)\n",
    "driver.find_element_by_name('selGoMonth').send_keys(month)\n",
    "driver.find_element_by_name('selGoDay').send_keys(day)\n",
    "driver.find_element_by_name('selGoHour').send_keys(hous)\n",
    "\n",
    "# 승차권 예매 누르기 \n",
    "xpath6=\"/html/body/div[1]/div[3]/div/div[1]/div[2]/form/div/p/a/img\"\n",
    "driver.find_element_by_xpath(xpath6).click()\n",
    "time.sleep(1)"
   ]
  },
  {
   "cell_type": "code",
   "execution_count": 22,
   "id": "7b0373b8",
   "metadata": {},
   "outputs": [
    {
     "ename": "NoSuchElementException",
     "evalue": "Message: no such element: Unable to locate element: {\"method\":\"xpath\",\"selector\":\"/html/body/div[1]/div[3]/div/div[1]/form[1]/div/div[4]/table[1]/tbody/tr[1]/td[6]/a/img\"}\n  (Session info: chrome=103.0.5060.114)\nStacktrace:\nBacktrace:\n\tOrdinal0 [0x00E0D953+2414931]\n\tOrdinal0 [0x00D9F5E1+1963489]\n\tOrdinal0 [0x00C8C6B8+837304]\n\tOrdinal0 [0x00CB9500+1021184]\n\tOrdinal0 [0x00CB979B+1021851]\n\tOrdinal0 [0x00CE6502+1205506]\n\tOrdinal0 [0x00CD44E4+1131748]\n\tOrdinal0 [0x00CE4812+1198098]\n\tOrdinal0 [0x00CD42B6+1131190]\n\tOrdinal0 [0x00CAE860+976992]\n\tOrdinal0 [0x00CAF756+980822]\n\tGetHandleVerifier [0x0107CC62+2510274]\n\tGetHandleVerifier [0x0106F760+2455744]\n\tGetHandleVerifier [0x00E9EABA+551962]\n\tGetHandleVerifier [0x00E9D916+547446]\n\tOrdinal0 [0x00DA5F3B+1990459]\n\tOrdinal0 [0x00DAA898+2009240]\n\tOrdinal0 [0x00DAA985+2009477]\n\tOrdinal0 [0x00DB3AD1+2046673]\n\tBaseThreadInitThunk [0x77ACFA29+25]\n\tRtlGetAppContainerNamedObjectPath [0x77E57A9E+286]\n\tRtlGetAppContainerNamedObjectPath [0x77E57A6E+238]\n",
     "output_type": "error",
     "traceback": [
      "\u001b[1;31m---------------------------------------------------------------------------\u001b[0m",
      "\u001b[1;31mNoSuchElementException\u001b[0m                    Traceback (most recent call last)",
      "Input \u001b[1;32mIn [22]\u001b[0m, in \u001b[0;36m<cell line: 6>\u001b[1;34m()\u001b[0m\n\u001b[0;32m      4\u001b[0m refresh_but\u001b[38;5;241m=\u001b[39m\u001b[38;5;124m\"\u001b[39m\u001b[38;5;124m/html/body/div[1]/div[3]/div/div[1]/form[1]/div/div[3]/p/a/img\u001b[39m\u001b[38;5;124m\"\u001b[39m \u001b[38;5;66;03m##refresh\u001b[39;00m\n\u001b[0;32m      5\u001b[0m \u001b[38;5;66;03m# xpath5=\"/html/body/div[1]/div/div/div[3]/div/div[1]/div[2]/div/p[2]/a\"\u001b[39;00m\n\u001b[1;32m----> 6\u001b[0m yy0\u001b[38;5;241m=\u001b[39m\u001b[43mdriver\u001b[49m\u001b[38;5;241;43m.\u001b[39;49m\u001b[43mfind_element_by_xpath\u001b[49m\u001b[43m(\u001b[49m\u001b[43mres_but0\u001b[49m\u001b[43m)\u001b[49m\u001b[38;5;241m.\u001b[39mget_attribute(\u001b[38;5;124m'\u001b[39m\u001b[38;5;124malt\u001b[39m\u001b[38;5;124m'\u001b[39m)\n\u001b[0;32m      7\u001b[0m yy1\u001b[38;5;241m=\u001b[39mdriver\u001b[38;5;241m.\u001b[39mfind_element_by_xpath(res_but1)\u001b[38;5;241m.\u001b[39mget_attribute(\u001b[38;5;124m'\u001b[39m\u001b[38;5;124malt\u001b[39m\u001b[38;5;124m'\u001b[39m) \u001b[38;5;66;03m##좌석선택 같이 있는 경우\u001b[39;00m\n\u001b[0;32m      8\u001b[0m \u001b[38;5;66;03m# yy2=driver.find_element_by_xpath(xpath6)\u001b[39;00m\n",
      "File \u001b[1;32m~\\anaconda3\\lib\\site-packages\\selenium\\webdriver\\remote\\webdriver.py:526\u001b[0m, in \u001b[0;36mWebDriver.find_element_by_xpath\u001b[1;34m(self, xpath)\u001b[0m\n\u001b[0;32m    504\u001b[0m \u001b[38;5;124;03m\"\"\"\u001b[39;00m\n\u001b[0;32m    505\u001b[0m \u001b[38;5;124;03mFinds an element by xpath.\u001b[39;00m\n\u001b[0;32m    506\u001b[0m \n\u001b[1;32m   (...)\u001b[0m\n\u001b[0;32m    519\u001b[0m \u001b[38;5;124;03m        element = driver.find_element_by_xpath('//div/td[1]')\u001b[39;00m\n\u001b[0;32m    520\u001b[0m \u001b[38;5;124;03m\"\"\"\u001b[39;00m\n\u001b[0;32m    521\u001b[0m warnings\u001b[38;5;241m.\u001b[39mwarn(\n\u001b[0;32m    522\u001b[0m     \u001b[38;5;124m\"\u001b[39m\u001b[38;5;124mfind_element_by_xpath is deprecated. Please use find_element(by=By.XPATH, value=xpath) instead\u001b[39m\u001b[38;5;124m\"\u001b[39m,\n\u001b[0;32m    523\u001b[0m     \u001b[38;5;167;01mDeprecationWarning\u001b[39;00m,\n\u001b[0;32m    524\u001b[0m     stacklevel\u001b[38;5;241m=\u001b[39m\u001b[38;5;241m2\u001b[39m,\n\u001b[0;32m    525\u001b[0m )\n\u001b[1;32m--> 526\u001b[0m \u001b[38;5;28;01mreturn\u001b[39;00m \u001b[38;5;28;43mself\u001b[39;49m\u001b[38;5;241;43m.\u001b[39;49m\u001b[43mfind_element\u001b[49m\u001b[43m(\u001b[49m\u001b[43mby\u001b[49m\u001b[38;5;241;43m=\u001b[39;49m\u001b[43mBy\u001b[49m\u001b[38;5;241;43m.\u001b[39;49m\u001b[43mXPATH\u001b[49m\u001b[43m,\u001b[49m\u001b[43m \u001b[49m\u001b[43mvalue\u001b[49m\u001b[38;5;241;43m=\u001b[39;49m\u001b[43mxpath\u001b[49m\u001b[43m)\u001b[49m\n",
      "File \u001b[1;32m~\\anaconda3\\lib\\site-packages\\selenium\\webdriver\\remote\\webdriver.py:1251\u001b[0m, in \u001b[0;36mWebDriver.find_element\u001b[1;34m(self, by, value)\u001b[0m\n\u001b[0;32m   1248\u001b[0m     by \u001b[38;5;241m=\u001b[39m By\u001b[38;5;241m.\u001b[39mCSS_SELECTOR\n\u001b[0;32m   1249\u001b[0m     value \u001b[38;5;241m=\u001b[39m \u001b[38;5;124m'\u001b[39m\u001b[38;5;124m[name=\u001b[39m\u001b[38;5;124m\"\u001b[39m\u001b[38;5;132;01m%s\u001b[39;00m\u001b[38;5;124m\"\u001b[39m\u001b[38;5;124m]\u001b[39m\u001b[38;5;124m'\u001b[39m \u001b[38;5;241m%\u001b[39m value\n\u001b[1;32m-> 1251\u001b[0m \u001b[38;5;28;01mreturn\u001b[39;00m \u001b[38;5;28;43mself\u001b[39;49m\u001b[38;5;241;43m.\u001b[39;49m\u001b[43mexecute\u001b[49m\u001b[43m(\u001b[49m\u001b[43mCommand\u001b[49m\u001b[38;5;241;43m.\u001b[39;49m\u001b[43mFIND_ELEMENT\u001b[49m\u001b[43m,\u001b[49m\u001b[43m \u001b[49m\u001b[43m{\u001b[49m\n\u001b[0;32m   1252\u001b[0m \u001b[43m    \u001b[49m\u001b[38;5;124;43m'\u001b[39;49m\u001b[38;5;124;43musing\u001b[39;49m\u001b[38;5;124;43m'\u001b[39;49m\u001b[43m:\u001b[49m\u001b[43m \u001b[49m\u001b[43mby\u001b[49m\u001b[43m,\u001b[49m\n\u001b[0;32m   1253\u001b[0m \u001b[43m    \u001b[49m\u001b[38;5;124;43m'\u001b[39;49m\u001b[38;5;124;43mvalue\u001b[39;49m\u001b[38;5;124;43m'\u001b[39;49m\u001b[43m:\u001b[49m\u001b[43m \u001b[49m\u001b[43mvalue\u001b[49m\u001b[43m}\u001b[49m\u001b[43m)\u001b[49m[\u001b[38;5;124m'\u001b[39m\u001b[38;5;124mvalue\u001b[39m\u001b[38;5;124m'\u001b[39m]\n",
      "File \u001b[1;32m~\\anaconda3\\lib\\site-packages\\selenium\\webdriver\\remote\\webdriver.py:430\u001b[0m, in \u001b[0;36mWebDriver.execute\u001b[1;34m(self, driver_command, params)\u001b[0m\n\u001b[0;32m    428\u001b[0m response \u001b[38;5;241m=\u001b[39m \u001b[38;5;28mself\u001b[39m\u001b[38;5;241m.\u001b[39mcommand_executor\u001b[38;5;241m.\u001b[39mexecute(driver_command, params)\n\u001b[0;32m    429\u001b[0m \u001b[38;5;28;01mif\u001b[39;00m response:\n\u001b[1;32m--> 430\u001b[0m     \u001b[38;5;28;43mself\u001b[39;49m\u001b[38;5;241;43m.\u001b[39;49m\u001b[43merror_handler\u001b[49m\u001b[38;5;241;43m.\u001b[39;49m\u001b[43mcheck_response\u001b[49m\u001b[43m(\u001b[49m\u001b[43mresponse\u001b[49m\u001b[43m)\u001b[49m\n\u001b[0;32m    431\u001b[0m     response[\u001b[38;5;124m'\u001b[39m\u001b[38;5;124mvalue\u001b[39m\u001b[38;5;124m'\u001b[39m] \u001b[38;5;241m=\u001b[39m \u001b[38;5;28mself\u001b[39m\u001b[38;5;241m.\u001b[39m_unwrap_value(\n\u001b[0;32m    432\u001b[0m         response\u001b[38;5;241m.\u001b[39mget(\u001b[38;5;124m'\u001b[39m\u001b[38;5;124mvalue\u001b[39m\u001b[38;5;124m'\u001b[39m, \u001b[38;5;28;01mNone\u001b[39;00m))\n\u001b[0;32m    433\u001b[0m     \u001b[38;5;28;01mreturn\u001b[39;00m response\n",
      "File \u001b[1;32m~\\anaconda3\\lib\\site-packages\\selenium\\webdriver\\remote\\errorhandler.py:247\u001b[0m, in \u001b[0;36mErrorHandler.check_response\u001b[1;34m(self, response)\u001b[0m\n\u001b[0;32m    245\u001b[0m         alert_text \u001b[38;5;241m=\u001b[39m value[\u001b[38;5;124m'\u001b[39m\u001b[38;5;124malert\u001b[39m\u001b[38;5;124m'\u001b[39m]\u001b[38;5;241m.\u001b[39mget(\u001b[38;5;124m'\u001b[39m\u001b[38;5;124mtext\u001b[39m\u001b[38;5;124m'\u001b[39m)\n\u001b[0;32m    246\u001b[0m     \u001b[38;5;28;01mraise\u001b[39;00m exception_class(message, screen, stacktrace, alert_text)  \u001b[38;5;66;03m# type: ignore[call-arg]  # mypy is not smart enough here\u001b[39;00m\n\u001b[1;32m--> 247\u001b[0m \u001b[38;5;28;01mraise\u001b[39;00m exception_class(message, screen, stacktrace)\n",
      "\u001b[1;31mNoSuchElementException\u001b[0m: Message: no such element: Unable to locate element: {\"method\":\"xpath\",\"selector\":\"/html/body/div[1]/div[3]/div/div[1]/form[1]/div/div[4]/table[1]/tbody/tr[1]/td[6]/a/img\"}\n  (Session info: chrome=103.0.5060.114)\nStacktrace:\nBacktrace:\n\tOrdinal0 [0x00E0D953+2414931]\n\tOrdinal0 [0x00D9F5E1+1963489]\n\tOrdinal0 [0x00C8C6B8+837304]\n\tOrdinal0 [0x00CB9500+1021184]\n\tOrdinal0 [0x00CB979B+1021851]\n\tOrdinal0 [0x00CE6502+1205506]\n\tOrdinal0 [0x00CD44E4+1131748]\n\tOrdinal0 [0x00CE4812+1198098]\n\tOrdinal0 [0x00CD42B6+1131190]\n\tOrdinal0 [0x00CAE860+976992]\n\tOrdinal0 [0x00CAF756+980822]\n\tGetHandleVerifier [0x0107CC62+2510274]\n\tGetHandleVerifier [0x0106F760+2455744]\n\tGetHandleVerifier [0x00E9EABA+551962]\n\tGetHandleVerifier [0x00E9D916+547446]\n\tOrdinal0 [0x00DA5F3B+1990459]\n\tOrdinal0 [0x00DAA898+2009240]\n\tOrdinal0 [0x00DAA985+2009477]\n\tOrdinal0 [0x00DB3AD1+2046673]\n\tBaseThreadInitThunk [0x77ACFA29+25]\n\tRtlGetAppContainerNamedObjectPath [0x77E57A9E+286]\n\tRtlGetAppContainerNamedObjectPath [0x77E57A6E+238]\n"
     ]
    }
   ],
   "source": [
    "# < 일반실 예매 처리 >\n",
    "res_but0  = \"/html/body/div[1]/div[3]/div/div[1]/form[1]/div/div[4]/table[1]/tbody/tr[1]/td[6]/a/img\"\n",
    "res_but1 = \"/html/body/div[1]/div[3]/div/div[1]/form[1]/div/div[4]/table[1]/tbody/tr[1]/td[6]/a[1]/img\"\n",
    "refresh_but=\"/html/body/div[1]/div[3]/div/div[1]/form[1]/div/div[3]/p/a/img\" ##refresh\n",
    "# xpath5=\"/html/body/div[1]/div/div/div[3]/div/div[1]/div[2]/div/p[2]/a\"\n",
    "yy0=driver.find_element_by_xpath(res_but0).get_attribute('alt')\n",
    "yy1=driver.find_element_by_xpath(res_but1).get_attribute('alt') ##좌석선택 같이 있는 경우\n",
    "# yy2=driver.find_element_by_xpath(xpath6)\n",
    "progress = 0\n",
    "while progress==0:\n",
    "    driver.implicitly_wait(3)\n",
    "    if yy0 == \"예약하기\":\n",
    "        try:\n",
    "            driver.find_element_by_xpath(res_but0).click()\n",
    "            progress = 1\n",
    "        except:\n",
    "            pass\n",
    "        break\n",
    "    elif yy1 == \"예약하기\":\n",
    "        try:\n",
    "            driver.find_element_by_xpath(res_but1).click()\n",
    "            progress = 1\n",
    "        except:\n",
    "            pass\n",
    "        break\n",
    "#     elif yy2==\" 사용자가 많아 접속이 원활하지 않습니다.\":\n",
    "#          driver.find_element_by_xpath(xpath5).click()\n",
    "    else:\n",
    "        try:\n",
    "            driver.find_element_by_xpath(refresh_but).click()\n",
    "        except:\n",
    "            pass"
   ]
  },
  {
   "cell_type": "code",
   "execution_count": 25,
   "id": "8019c1aa",
   "metadata": {},
   "outputs": [],
   "source": [
    "res_but0 = \"/html/body/div[1]/div[3]/div/div[1]/form[1]/div/div[4]/table[1]/tbody/tr[1]/td[6]/img\"\n",
    "res_but1 = \"/html/body/div[1]/div[3]/div/div[1]/form[1]/div/div[4]/table[1]/tbody/tr[1]/td[6]/img\"\n",
    "refresh_but=\"/html/body/div[1]/div[3]/div/div[1]/form[1]/div/div[3]/p/a/img\" ##refresh\n",
    "# xpath5=\"/html/body/div[1]/div/div/div[3]/div/div[1]/div[2]/div/p[2]/a\"\n",
    "yy1=driver.find_element_by_xpath(res_but0).get_attribute('alt')\n",
    "yy2=driver.find_element_by_xpath(res_but1).get_attribute('alt') ##좌석선택 같이 있는 경우"
   ]
  },
  {
   "cell_type": "code",
   "execution_count": null,
   "id": "192b9ae1",
   "metadata": {},
   "outputs": [],
   "source": [
    "# 추가 구현 필요 사항\n",
    "\n",
    "# - 예외 처리(인터넷 및 웹사이트 오류)\n",
    "# - 예약 성공 시 알림(텔레그램?, 카카오톡?)"
   ]
  },
  {
   "cell_type": "code",
   "execution_count": 26,
   "id": "1aa18999",
   "metadata": {},
   "outputs": [
    {
     "data": {
      "text/plain": [
       "'좌석매진'"
      ]
     },
     "execution_count": 26,
     "metadata": {},
     "output_type": "execute_result"
    }
   ],
   "source": [
    "yy2"
   ]
  },
  {
   "cell_type": "code",
   "execution_count": 29,
   "id": "34bf8a92",
   "metadata": {},
   "outputs": [
    {
     "ename": "NoSuchElementException",
     "evalue": "Message: no such element: Unable to locate element: {\"method\":\"xpath\",\"selector\":\"/html/body/div[1]/div[3]/div/div[1]/form[1]/div/div[4]/table[1]/tbody/tr[6]/td[6]/img\"}\n  (Session info: chrome=103.0.5060.114)\nStacktrace:\nBacktrace:\n\tOrdinal0 [0x00E0D953+2414931]\n\tOrdinal0 [0x00D9F5E1+1963489]\n\tOrdinal0 [0x00C8C6B8+837304]\n\tOrdinal0 [0x00CB9500+1021184]\n\tOrdinal0 [0x00CB979B+1021851]\n\tOrdinal0 [0x00CE6502+1205506]\n\tOrdinal0 [0x00CD44E4+1131748]\n\tOrdinal0 [0x00CE4812+1198098]\n\tOrdinal0 [0x00CD42B6+1131190]\n\tOrdinal0 [0x00CAE860+976992]\n\tOrdinal0 [0x00CAF756+980822]\n\tGetHandleVerifier [0x0107CC62+2510274]\n\tGetHandleVerifier [0x0106F760+2455744]\n\tGetHandleVerifier [0x00E9EABA+551962]\n\tGetHandleVerifier [0x00E9D916+547446]\n\tOrdinal0 [0x00DA5F3B+1990459]\n\tOrdinal0 [0x00DAA898+2009240]\n\tOrdinal0 [0x00DAA985+2009477]\n\tOrdinal0 [0x00DB3AD1+2046673]\n\tBaseThreadInitThunk [0x77ACFA29+25]\n\tRtlGetAppContainerNamedObjectPath [0x77E57A9E+286]\n\tRtlGetAppContainerNamedObjectPath [0x77E57A6E+238]\n",
     "output_type": "error",
     "traceback": [
      "\u001b[1;31m---------------------------------------------------------------------------\u001b[0m",
      "\u001b[1;31mNoSuchElementException\u001b[0m                    Traceback (most recent call last)",
      "Input \u001b[1;32mIn [29]\u001b[0m, in \u001b[0;36m<cell line: 2>\u001b[1;34m()\u001b[0m\n\u001b[0;32m      1\u001b[0m res_test \u001b[38;5;241m=\u001b[39m \u001b[38;5;124m\"\u001b[39m\u001b[38;5;124m/html/body/div[1]/div[3]/div/div[1]/form[1]/div/div[4]/table[1]/tbody/tr[6]/td[6]/img\u001b[39m\u001b[38;5;124m\"\u001b[39m\n\u001b[1;32m----> 2\u001b[0m res_alt_test \u001b[38;5;241m=\u001b[39m\u001b[43mdriver\u001b[49m\u001b[38;5;241;43m.\u001b[39;49m\u001b[43mfind_element_by_xpath\u001b[49m\u001b[43m(\u001b[49m\u001b[43mres_test\u001b[49m\u001b[43m)\u001b[49m\u001b[38;5;241m.\u001b[39mget_attribute(\u001b[38;5;124m'\u001b[39m\u001b[38;5;124malt\u001b[39m\u001b[38;5;124m'\u001b[39m)\n",
      "File \u001b[1;32m~\\anaconda3\\lib\\site-packages\\selenium\\webdriver\\remote\\webdriver.py:526\u001b[0m, in \u001b[0;36mWebDriver.find_element_by_xpath\u001b[1;34m(self, xpath)\u001b[0m\n\u001b[0;32m    504\u001b[0m \u001b[38;5;124;03m\"\"\"\u001b[39;00m\n\u001b[0;32m    505\u001b[0m \u001b[38;5;124;03mFinds an element by xpath.\u001b[39;00m\n\u001b[0;32m    506\u001b[0m \n\u001b[1;32m   (...)\u001b[0m\n\u001b[0;32m    519\u001b[0m \u001b[38;5;124;03m        element = driver.find_element_by_xpath('//div/td[1]')\u001b[39;00m\n\u001b[0;32m    520\u001b[0m \u001b[38;5;124;03m\"\"\"\u001b[39;00m\n\u001b[0;32m    521\u001b[0m warnings\u001b[38;5;241m.\u001b[39mwarn(\n\u001b[0;32m    522\u001b[0m     \u001b[38;5;124m\"\u001b[39m\u001b[38;5;124mfind_element_by_xpath is deprecated. Please use find_element(by=By.XPATH, value=xpath) instead\u001b[39m\u001b[38;5;124m\"\u001b[39m,\n\u001b[0;32m    523\u001b[0m     \u001b[38;5;167;01mDeprecationWarning\u001b[39;00m,\n\u001b[0;32m    524\u001b[0m     stacklevel\u001b[38;5;241m=\u001b[39m\u001b[38;5;241m2\u001b[39m,\n\u001b[0;32m    525\u001b[0m )\n\u001b[1;32m--> 526\u001b[0m \u001b[38;5;28;01mreturn\u001b[39;00m \u001b[38;5;28;43mself\u001b[39;49m\u001b[38;5;241;43m.\u001b[39;49m\u001b[43mfind_element\u001b[49m\u001b[43m(\u001b[49m\u001b[43mby\u001b[49m\u001b[38;5;241;43m=\u001b[39;49m\u001b[43mBy\u001b[49m\u001b[38;5;241;43m.\u001b[39;49m\u001b[43mXPATH\u001b[49m\u001b[43m,\u001b[49m\u001b[43m \u001b[49m\u001b[43mvalue\u001b[49m\u001b[38;5;241;43m=\u001b[39;49m\u001b[43mxpath\u001b[49m\u001b[43m)\u001b[49m\n",
      "File \u001b[1;32m~\\anaconda3\\lib\\site-packages\\selenium\\webdriver\\remote\\webdriver.py:1251\u001b[0m, in \u001b[0;36mWebDriver.find_element\u001b[1;34m(self, by, value)\u001b[0m\n\u001b[0;32m   1248\u001b[0m     by \u001b[38;5;241m=\u001b[39m By\u001b[38;5;241m.\u001b[39mCSS_SELECTOR\n\u001b[0;32m   1249\u001b[0m     value \u001b[38;5;241m=\u001b[39m \u001b[38;5;124m'\u001b[39m\u001b[38;5;124m[name=\u001b[39m\u001b[38;5;124m\"\u001b[39m\u001b[38;5;132;01m%s\u001b[39;00m\u001b[38;5;124m\"\u001b[39m\u001b[38;5;124m]\u001b[39m\u001b[38;5;124m'\u001b[39m \u001b[38;5;241m%\u001b[39m value\n\u001b[1;32m-> 1251\u001b[0m \u001b[38;5;28;01mreturn\u001b[39;00m \u001b[38;5;28;43mself\u001b[39;49m\u001b[38;5;241;43m.\u001b[39;49m\u001b[43mexecute\u001b[49m\u001b[43m(\u001b[49m\u001b[43mCommand\u001b[49m\u001b[38;5;241;43m.\u001b[39;49m\u001b[43mFIND_ELEMENT\u001b[49m\u001b[43m,\u001b[49m\u001b[43m \u001b[49m\u001b[43m{\u001b[49m\n\u001b[0;32m   1252\u001b[0m \u001b[43m    \u001b[49m\u001b[38;5;124;43m'\u001b[39;49m\u001b[38;5;124;43musing\u001b[39;49m\u001b[38;5;124;43m'\u001b[39;49m\u001b[43m:\u001b[49m\u001b[43m \u001b[49m\u001b[43mby\u001b[49m\u001b[43m,\u001b[49m\n\u001b[0;32m   1253\u001b[0m \u001b[43m    \u001b[49m\u001b[38;5;124;43m'\u001b[39;49m\u001b[38;5;124;43mvalue\u001b[39;49m\u001b[38;5;124;43m'\u001b[39;49m\u001b[43m:\u001b[49m\u001b[43m \u001b[49m\u001b[43mvalue\u001b[49m\u001b[43m}\u001b[49m\u001b[43m)\u001b[49m[\u001b[38;5;124m'\u001b[39m\u001b[38;5;124mvalue\u001b[39m\u001b[38;5;124m'\u001b[39m]\n",
      "File \u001b[1;32m~\\anaconda3\\lib\\site-packages\\selenium\\webdriver\\remote\\webdriver.py:430\u001b[0m, in \u001b[0;36mWebDriver.execute\u001b[1;34m(self, driver_command, params)\u001b[0m\n\u001b[0;32m    428\u001b[0m response \u001b[38;5;241m=\u001b[39m \u001b[38;5;28mself\u001b[39m\u001b[38;5;241m.\u001b[39mcommand_executor\u001b[38;5;241m.\u001b[39mexecute(driver_command, params)\n\u001b[0;32m    429\u001b[0m \u001b[38;5;28;01mif\u001b[39;00m response:\n\u001b[1;32m--> 430\u001b[0m     \u001b[38;5;28;43mself\u001b[39;49m\u001b[38;5;241;43m.\u001b[39;49m\u001b[43merror_handler\u001b[49m\u001b[38;5;241;43m.\u001b[39;49m\u001b[43mcheck_response\u001b[49m\u001b[43m(\u001b[49m\u001b[43mresponse\u001b[49m\u001b[43m)\u001b[49m\n\u001b[0;32m    431\u001b[0m     response[\u001b[38;5;124m'\u001b[39m\u001b[38;5;124mvalue\u001b[39m\u001b[38;5;124m'\u001b[39m] \u001b[38;5;241m=\u001b[39m \u001b[38;5;28mself\u001b[39m\u001b[38;5;241m.\u001b[39m_unwrap_value(\n\u001b[0;32m    432\u001b[0m         response\u001b[38;5;241m.\u001b[39mget(\u001b[38;5;124m'\u001b[39m\u001b[38;5;124mvalue\u001b[39m\u001b[38;5;124m'\u001b[39m, \u001b[38;5;28;01mNone\u001b[39;00m))\n\u001b[0;32m    433\u001b[0m     \u001b[38;5;28;01mreturn\u001b[39;00m response\n",
      "File \u001b[1;32m~\\anaconda3\\lib\\site-packages\\selenium\\webdriver\\remote\\errorhandler.py:247\u001b[0m, in \u001b[0;36mErrorHandler.check_response\u001b[1;34m(self, response)\u001b[0m\n\u001b[0;32m    245\u001b[0m         alert_text \u001b[38;5;241m=\u001b[39m value[\u001b[38;5;124m'\u001b[39m\u001b[38;5;124malert\u001b[39m\u001b[38;5;124m'\u001b[39m]\u001b[38;5;241m.\u001b[39mget(\u001b[38;5;124m'\u001b[39m\u001b[38;5;124mtext\u001b[39m\u001b[38;5;124m'\u001b[39m)\n\u001b[0;32m    246\u001b[0m     \u001b[38;5;28;01mraise\u001b[39;00m exception_class(message, screen, stacktrace, alert_text)  \u001b[38;5;66;03m# type: ignore[call-arg]  # mypy is not smart enough here\u001b[39;00m\n\u001b[1;32m--> 247\u001b[0m \u001b[38;5;28;01mraise\u001b[39;00m exception_class(message, screen, stacktrace)\n",
      "\u001b[1;31mNoSuchElementException\u001b[0m: Message: no such element: Unable to locate element: {\"method\":\"xpath\",\"selector\":\"/html/body/div[1]/div[3]/div/div[1]/form[1]/div/div[4]/table[1]/tbody/tr[6]/td[6]/img\"}\n  (Session info: chrome=103.0.5060.114)\nStacktrace:\nBacktrace:\n\tOrdinal0 [0x00E0D953+2414931]\n\tOrdinal0 [0x00D9F5E1+1963489]\n\tOrdinal0 [0x00C8C6B8+837304]\n\tOrdinal0 [0x00CB9500+1021184]\n\tOrdinal0 [0x00CB979B+1021851]\n\tOrdinal0 [0x00CE6502+1205506]\n\tOrdinal0 [0x00CD44E4+1131748]\n\tOrdinal0 [0x00CE4812+1198098]\n\tOrdinal0 [0x00CD42B6+1131190]\n\tOrdinal0 [0x00CAE860+976992]\n\tOrdinal0 [0x00CAF756+980822]\n\tGetHandleVerifier [0x0107CC62+2510274]\n\tGetHandleVerifier [0x0106F760+2455744]\n\tGetHandleVerifier [0x00E9EABA+551962]\n\tGetHandleVerifier [0x00E9D916+547446]\n\tOrdinal0 [0x00DA5F3B+1990459]\n\tOrdinal0 [0x00DAA898+2009240]\n\tOrdinal0 [0x00DAA985+2009477]\n\tOrdinal0 [0x00DB3AD1+2046673]\n\tBaseThreadInitThunk [0x77ACFA29+25]\n\tRtlGetAppContainerNamedObjectPath [0x77E57A9E+286]\n\tRtlGetAppContainerNamedObjectPath [0x77E57A6E+238]\n"
     ]
    }
   ],
   "source": [
    "res_test = \"/html/body/div[1]/div[3]/div/div[1]/form[1]/div/div[4]/table[1]/tbody/tr[]/td[6]/img\"\n",
    "res_alt_test =driver.find_element_by_xpath(res_test).get_attribute('alt')"
   ]
  },
  {
   "cell_type": "code",
   "execution_count": 28,
   "id": "7f42911c",
   "metadata": {},
   "outputs": [
    {
     "data": {
      "text/plain": [
       "'좌석매진'"
      ]
     },
     "execution_count": 28,
     "metadata": {},
     "output_type": "execute_result"
    }
   ],
   "source": [
    "//*[@id=\"tableResult\"]/tbody/tr[1]/td[6]/img"
   ]
  }
 ],
 "metadata": {
  "kernelspec": {
   "display_name": "Python 3 (ipykernel)",
   "language": "python",
   "name": "python3"
  },
  "language_info": {
   "codemirror_mode": {
    "name": "ipython",
    "version": 3
   },
   "file_extension": ".py",
   "mimetype": "text/x-python",
   "name": "python",
   "nbconvert_exporter": "python",
   "pygments_lexer": "ipython3",
   "version": "3.9.12"
  }
 },
 "nbformat": 4,
 "nbformat_minor": 5
}
